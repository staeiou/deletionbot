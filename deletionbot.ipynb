{
 "cells": [
  {
   "cell_type": "code",
   "execution_count": 32,
   "metadata": {
    "collapsed": false
   },
   "outputs": [
    {
     "name": "stdout",
     "output_type": "stream",
     "text": [
      "Requirement already satisfied (use --upgrade to upgrade): markovify in /home/vm/anaconda3/lib/python3.5/site-packages\n",
      "Requirement already satisfied (use --upgrade to upgrade): unidecode in /home/vm/anaconda3/lib/python3.5/site-packages (from markovify)\n",
      "\u001b[33mYou are using pip version 8.1.2, however version 9.0.1 is available.\n",
      "You should consider upgrading via the 'pip install --upgrade pip' command.\u001b[0m\n"
     ]
    }
   ],
   "source": [
    "!pip install markovify\n",
    "import markovify"
   ]
  },
  {
   "cell_type": "code",
   "execution_count": 33,
   "metadata": {
    "collapsed": true
   },
   "outputs": [],
   "source": [
    "with open (\"titles.txt\") as f:\n",
    "    deltext = f.read()"
   ]
  },
  {
   "cell_type": "code",
   "execution_count": 34,
   "metadata": {
    "collapsed": false
   },
   "outputs": [],
   "source": [
    "deletion_model = markovify.NewlineText(deltext)"
   ]
  },
  {
   "cell_type": "code",
   "execution_count": 35,
   "metadata": {
    "collapsed": true
   },
   "outputs": [],
   "source": [
    "# Tact function (c) Molly White, 2013-2016, released MIT License\n",
    "# https://github.com/molly/CyberPrefixer/blob/master/offensive.py\n",
    "\n",
    "import re\n",
    "\n",
    "offensive = re.compile(\n",
    "    r\"\\b(deaths?|dead(ly)?|die(s|d)?|hurts?|(sex(ual(ly)?)?|child)[ -]?(abused?|trafficking|assault(ed|s)?)|\"\n",
    "    r\"injur(e|i?es|ed|y)|kill(ing|ed|er|s)?s?|wound(ing|ed|s)?|fatal(ly|ity)?|shoo?t(s|ing|er)?s?|\"\n",
    "    r\"crash(es|ed|ing)?|attack(s|ers?|ing|ed)?|murder(s|er|ed|ing)?s?|hostages?|rap(e|es|ed|ist|ists|ing)|\"\n",
    "    r\"assault(s|ed)?|pile-?ups?|massacre(s|d)?|assassinate(d|s)?|sla(y|in|yed|ys|ying|yings)|\"\n",
    "    r\"victims?|tortur(e|ed|ing|es)|execut(e|ion|ed|ioner)s?|gun(man|men|ned)|suicid(e|al|es)|\"\n",
    "    r\"bomb(s|ed|ing|ings|er|ers)?|mass[- ]?graves?|bloodshed|state[- ]?of[- ]?emergency|\"\n",
    "    r\"al[- ]?Qaeda|blasts?|violen(t|ce)|lethal|cancer(ous)?|stab(bed|bing|ber)?s?|casualt(y|ies)|\"\n",
    "    r\"sla(y|ying|yer|in)|drown(s|ing|ed|ings)?|bod(y|ies)|kidnap(s|ped|per|pers|ping|pings)?|\"\n",
    "    r\"rampage|beat(ings?|en)|terminal(ly)?|abduct(s|ed|ion)?s?|missing|behead(s|ed|ings?)?|\"\n",
    "    r\"homicid(e|es|al)|burn(s|ed|ing)? alive|decapitated?s?|jihadi?s?t?|hang(ed|ing|s)?|\"\n",
    "    r\"funerals?|traged(y|ies)|autops(y|ies)|child sex|sob(s|bing|bed)?|pa?edophil(e|es|ia)|9(/|-)11|\"\n",
    "    r\"Sept(ember|\\.)? 11|genocide)\\W?\\b\",\n",
    "    flags=re.IGNORECASE)\n",
    "\n",
    "\n",
    "def tact(headline):\n",
    "    # Avoid producing particularly tactless tweets\n",
    "    if re.search(offensive, headline) is None:\n",
    "        return True\n",
    "    else:\n",
    "        return False"
   ]
  },
  {
   "cell_type": "code",
   "execution_count": 36,
   "metadata": {
    "collapsed": false
   },
   "outputs": [
    {
     "name": "stdout",
     "output_type": "stream",
     "text": [
      "The Life & Freaky Times\n",
      "International Society for Neurofeedback and Research Centre Free Europe\n",
      "Desert hills middle school billings montana\n",
      "Intelligence Preparation of the Match Awards\n",
      "Categories of American Dreams\n",
      "Dr. Michael A. Geppi\n",
      "Call It What You Did Last Winter\n",
      "The limit of The Kings of Power\n",
      "Wrong Side of AIDS\n",
      "Forty Plus of New Orleans Nightmare\n",
      "Evil in the DC Universe\n",
      "Playtime Is Over 5\n",
      "Miscellany for deletion/Wikipedia:Miscellany for deletion but that may concern encyclopedic topics\n",
      "An A to Z Walk In the Aeroplane Over the Sea Forevermore\n",
      "Foreign relations of the Dragonflame\n",
      "Meisner Technique School of Physiotherapy\n",
      "All I Want Pussy\n",
      "Ghosts In The Cheap Seats\n",
      "Heights of the servers\n",
      "Jetagsii: The Band Diatom\n",
      "Shadows in the dumps\n",
      "Reformed Church of England\n",
      "Riders in the Family in Troubled Times\n",
      "Malik Sigma Psi Alpha\n",
      "Wrong Side of AIDS\n",
      "Schenectady County Society for Industrial & Organizational Psychology\n",
      "Miction:Paradigm shift in classification of books by Glenn Sasscer\n",
      "International Network for Development Policy Analysis\n",
      "Minor locations in Banjo-Kazooie series\n",
      "Samantha Rogers of the University of Metaphysics\n",
      "Star of the beast\n",
      "List of one-off characters from Epic Movie\n",
      "Tears Of God School\n",
      "Military in Grand Theft Auto IV Delay\n",
      "Statewide opinion polling for the word dog in them\n",
      "North Carolina Transportation Hall of mirrors effect\n",
      "New Hampshire Amateur Radio Digital Modes\n",
      "Liberal Studies and the Marjorettes\n",
      "International Society for Rational Economics and Social Activism Club\n",
      "Radio stations in Chico\n",
      "List of BBC West End Hockey League\n",
      "Diary of the Fifty\n",
      "Burning Down The House that Lives\n",
      "Prestige Academy of Professional Videomakers\n",
      "In my view Health and Safety at risk from the Federal Reporter, Second Series, volume 120\n",
      "Madeira Chemistry Research Centre Free Europe\n",
      "Dance Dance Dance Dance Dance Dance\n",
      "The Battle of the Earth\n",
      "Asia Sports & Entertainment - A halo 3 machinima\n",
      "The Last Of A Silhouette\n",
      "Heroes of Might and Magic School Characters\n",
      "Don't Tell Me Why\n",
      "Fear of God of the Land\n",
      "The LNM Institute of Whole Health\n",
      "List of Masters of the United States\n",
      "Knights of the Sun & Allure of the Ganesh Image\n",
      "Prof. M. S. El Naschie\n",
      "The Great I Am The City of Refuge\n",
      "Oxonian review of books by Glenn Sasscer\n",
      "Terror on the Rise\n",
      "First on the Floor\n",
      "Bibliography of the Golden Fleece\n",
      "International Inn On the bubble news\n",
      "List of United Kingdom military helicopters\n",
      "The order of the Sickest\n",
      "The 99 Degrees of Kevin Bacon Game\n",
      "List of King Om\n",
      "Army of the Dissouled\n",
      "England Player of the Heavens\n",
      "Falmouth Amateur Radio Digital Modes\n",
      "Lisl and the Viscount\n",
      "Pokemon Mario & Sonic Explorers of Time\n",
      "A Man's Gotta Be Playa\n",
      "Bibliography of the Sports Club\n",
      "Comparison of Indian States\n",
      "Enemies of the Lakes\n",
      "North American Chapter of the Sports Club Dynamo\n",
      "Don't Feed the animals\n",
      "Characters and Story of a Lion\n",
      "Song About Bon Scott Rarities\n",
      "List of All Time\n",
      "I'd Do It Like Beckham\n",
      "Prince of the Seven\n",
      "Speak of the Enigma Revealed\n",
      "Come With Me CD Single\n",
      "International Institute of Surveyors\n",
      "Lusternia, Age of Computing\n",
      "Angel of the americas\n",
      "List of New York Perl Mongers\n",
      "The Exorcist - The Complete Sessions 1980–1983\n",
      "Freelancing on the Lake\n",
      "Face The Music Magazine\n",
      "Risk Your Life Story\n"
     ]
    }
   ],
   "source": [
    "for i in range(100):\n",
    "    title = deletion_model.make_short_sentence(100)\n",
    "    if title is not None and tact(title):\n",
    "        print(title)"
   ]
  },
  {
   "cell_type": "code",
   "execution_count": 37,
   "metadata": {
    "collapsed": false
   },
   "outputs": [
    {
     "name": "stdout",
     "output_type": "stream",
     "text": [
      "Omni San Diego Wine Tasting of 2005\n",
      "Real world/Road Rules Challenge: The Island of PCS\n",
      "Mario's Fourth Studio Album\n",
      "Oxford and Cambridge Society of the Sports Club Dynamo\n",
      "Indiana and the City\n",
      "Life as a hatter\n",
      "List of folk music and art museum reserve.\n",
      "Forest of the North Star\n",
      "All The Way of Adidam\n",
      "Nicola and the Harlot\n",
      "Organization of Phi Kappa Psi\n",
      "Zombina and The Monarchy\n",
      "Tea at The University of Caloocan City Chorale\n",
      "The Empire of Somple\n",
      "Heights of the differant\n",
      "Thats How I Do And How I do\n",
      "List of persons who have Cerebral Stroke\n",
      "Vethia Lords of Orhan\n",
      "Diamond In The Pavement\n",
      "Keepers of the tiger\n",
      "Desktop On Demand Storage\n",
      "Software Engineering Ethics in British Columbia Integrated Engineering Club\n",
      "List of Mexican professional wrestling stables and tag teams\n",
      "Hungarian Association for the Study of Culture 2008\n",
      "Ira and the Defiants\n",
      "Speak of the Sports Club\n",
      "Movement in the Trunk\n",
      "Glycobiology research and training periods\n",
      "Agriculture and New York State Route 495\n",
      "SMPK BPK Penabur Jakarta\n",
      "National Academy of Professional Videomakers\n",
      "Belarus Air Flight 180\n",
      "Kinta Eagles Football Club\n",
      "Number-one hits of 2004\n",
      "Critique of Intelligent Biological Medicine\n",
      "List of radio stations in California by market capitalization on 30th March 2007\n",
      "Daewoo Information Systems Studies\n",
      "Niche Science & Engineering\n",
      "List of Magic: The Dreamwright\n",
      "Discover the World On Stop\n",
      "Livermore Amateur Radio Association\n",
      "She Went All the World's a Stage Tour\n",
      "A Weekend in the West Indies in 2008\n",
      "Music of the Right\n",
      "5 Greatest Police Agencies of the 60s & 70s\n",
      "Parables of an MC\n",
      "The Battle of the new World\n",
      "My Friend The Ghost of Maine\n",
      "The Humane Society of elkhart,in\n",
      "Striking at the beach\n",
      "Captain Underpants and the Eagle\n",
      "List of Merritt Centennials season\n",
      "Fly by Night 92\n",
      "A Man's Gotta Be Playa\n",
      "Alvin and the Partytimers\n",
      "Taboo Dream Team Advantage\n",
      "Fist of the Time\n",
      "Disseminating pornography to a Thug\n",
      "War of the British defeat the Combined Fleets superior numbers?\n",
      "List of most popular given names for twins in the Animal Crossing School Days\n",
      "List of World Leaders\n",
      "Symbolism of the Dragons\n",
      "Sex, Drugs and Music Development Trust\n",
      "Scene of the War\n",
      "North Walsham Town F.C. season 2007-08 matches\n",
      "Preacher and the crossroads, Vynohrad\n",
      "The Institute of Whole Health\n",
      "The King of New York\n",
      "The World Famous Beauties 2007\n",
      "Divorce and the Texas Yard\n",
      "Walk with Me Later\n",
      "Church of Christian metalcore bands\n",
      "Pokémon: The Rise and Fall of the Soap Opera\n",
      "List of Diplomatic missions of Vanuatu\n",
      "Beauty in the Dark\n",
      "Snow and the white russians\n",
      "Quick! To the Continuation of the Heavens\n",
      "Nick on the Moon band\n",
      "Dancing with the International League of gentlemen\n",
      "Characteristics of Business Accommodation\n",
      "The Economics of Nuclear proliferation\n",
      "List of the Dragons\n",
      "Churchill Regular Association for Research on Poverty Alleviation REPOA, Tanzania\n",
      "Golden Age of Impact\n",
      "Danny and the Sea\n",
      "Crazy Adventures of B.o.B.\n",
      "My Happy Life of Brian\n",
      "General Statistics on Football at the Nobody Inn\n",
      "Liberal Studies and the Defiants\n",
      "Sugar Land Ice & Farm Co.\n",
      "William de la Mort\n",
      "Good Day To Say Goodnight\n",
      "DJ Domination: World Domination - Tour 2DVD\n",
      "Legion for the Study of Culture 2008\n"
     ]
    }
   ],
   "source": [
    "for i in range(100):\n",
    "    title = deletion_model.make_short_sentence(100)\n",
    "    if title is not None and tact(title):\n",
    "        print(title)"
   ]
  },
  {
   "cell_type": "code",
   "execution_count": null,
   "metadata": {
    "collapsed": true
   },
   "outputs": [],
   "source": []
  }
 ],
 "metadata": {
  "anaconda-cloud": {},
  "kernelspec": {
   "display_name": "Python [Root]",
   "language": "python",
   "name": "Python [Root]"
  },
  "language_info": {
   "codemirror_mode": {
    "name": "ipython",
    "version": 3
   },
   "file_extension": ".py",
   "mimetype": "text/x-python",
   "name": "python",
   "nbconvert_exporter": "python",
   "pygments_lexer": "ipython3",
   "version": "3.5.2"
  }
 },
 "nbformat": 4,
 "nbformat_minor": 0
}
