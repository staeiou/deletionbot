{
 "cells": [
  {
   "cell_type": "code",
   "execution_count": 6,
   "metadata": {
    "collapsed": false
   },
   "outputs": [
    {
     "name": "stdout",
     "output_type": "stream",
     "text": [
      "Requirement already satisfied (use --upgrade to upgrade): markovify in /home/vm/anaconda3/lib/python3.5/site-packages\n",
      "Requirement already satisfied (use --upgrade to upgrade): unidecode in /home/vm/anaconda3/lib/python3.5/site-packages (from markovify)\n",
      "\u001b[33mYou are using pip version 8.1.2, however version 9.0.1 is available.\n",
      "You should consider upgrading via the 'pip install --upgrade pip' command.\u001b[0m\n"
     ]
    }
   ],
   "source": [
    "!pip install markovify\n",
    "import markovify\n",
    "\n",
    "# Tact function (c) Molly White, 2013-2016, released MIT License\n",
    "# https://github.com/molly/CyberPrefixer/blob/master/offensive.py\n",
    "\n",
    "import offensive"
   ]
  },
  {
   "cell_type": "code",
   "execution_count": 7,
   "metadata": {
    "collapsed": true
   },
   "outputs": [],
   "source": [
    "with open (\"titles.txt\") as f:\n",
    "    deltext = f.read()"
   ]
  },
  {
   "cell_type": "code",
   "execution_count": 8,
   "metadata": {
    "collapsed": false
   },
   "outputs": [],
   "source": [
    "deletion_model = markovify.NewlineText(deltext)"
   ]
  },
  {
   "cell_type": "code",
   "execution_count": 9,
   "metadata": {
    "collapsed": false
   },
   "outputs": [
    {
     "name": "stdout",
     "output_type": "stream",
     "text": [
      "The Society for the Study of Culture 2008\n",
      "Le Moyne College Department of Computing, Macquarie University, Sydney, Australia\n",
      "Fight to the Disco\n",
      "For Those Who Save Us\n",
      "Huddersfield and District League\n",
      "Elise van der Woodsen\n",
      "Fight to the Heart Tour\n",
      "Ferndale High School Musical\n",
      "The Third Book of the Last Man Standing\n",
      "The mind and its Implications\n",
      "Regular coffee for a Devious Public\n",
      "Graduate Centre for Distance Education\n",
      "Dan A. Nelson Jr\n",
      "What's New Happening on Disney Channel Summer Programming\n",
      "Clare Fader & The Pranksters\n",
      "New Luther Valley Lutheran Church Sheyenne, ND\n",
      "Madeira Chemistry Research Centre Free Europe\n",
      "La Trobe University Student Publications\n",
      "Budgerigar Society of Allen County\n",
      "African Food in the world\n",
      "List of spells in The Railway Series\n",
      "Victoria and the Furious\n",
      "Nanowar of Steel Tour\n",
      "Number-one country hits of 2001\n",
      "Identified Tour 2008 A\n",
      "Plot of The Summer Set\n",
      "Decorator's Guide to Getting Wasted\n",
      "Just Another Day On The Coast\n",
      "Ancient Mystic Order of the City\n",
      "The Humane Society of Invisibles\n",
      "Malaysia Airlines Flight 957\n",
      "List of people from Djakovica\n",
      "Face The West Side Center for Advanced Researches\n",
      "Grand Rapids Amateur Radio Club\n",
      "Image:Judith Ridley as Judy in Night of the World of Difference\n",
      "Nick on the Dance Floor\n",
      "Mall of the Associated Students of the future\n",
      "The Tattooed Lady of Jordan, Oregon\n",
      "Pokémon: The Rise of the Clannic Shelf\n",
      "Center for Children and Juvenile Home\n",
      "The Sword in the Cinema, on November 23rd\n",
      "Further Adventures in Anime\n",
      "Trying to Be This Way\n",
      "David None of the West-Mark\n",
      "The Battle of Macragge\n",
      "Society for the Revival of the Arts\n",
      "YHWH aleim, YHWH's Council of the Forest\n",
      "In Search Of The Deceased\n",
      "Stereotypes of White South Africans\n",
      "World Women's Congress for Justice and Human Geography\n",
      "Contemporary Issues of the Pops\n",
      "Shared Open Source Internship Program\n",
      "Major Hustle Music Group Entertainment, LLC.\n",
      "Law, Economics and Education\n",
      "Itunes Essentials - Rage Against The Wind, Music Video\n",
      "The King of Memphis\n",
      "List of Law schools in india PROJECT\n",
      "It always starts with a Thousand Midnights\n",
      "Who is to blame for the word detergent to be japanese\n",
      "West bank school of acting\n",
      "New Hampshire Amateur Radio Association\n",
      "Challenge to Silicon Valley Linux User Group\n",
      "The Voyage of the 60s & 70s\n",
      "False Gestures for a Dream\n",
      "Redlands Christian Reformed Church of the South Slavic countries\n",
      "Unfeatured characters in the Visual Arts\n",
      "List of players with 22 goals and 17 assists in one hand and shit in the Sky\n",
      "Philippine Society for Educational Reform\n",
      "List of airports in the DC Universe\n",
      "The theory of creation\n",
      "William de la Paz Hall\n",
      "State National Bank in Tulsa\n",
      "Night of the Year\n",
      "How to be japanese\n",
      "Society for Neurofeedback and Research Centre Free Europe\n",
      "Augustana Lutheran Church and Providence inn\n",
      "Night of the Ninth\n",
      "Four Hours in My Shoes Remix\n",
      "Anabel De La Rosa\n",
      "List of On the One\n",
      "The Birds And The Kix\n",
      "The Life of Jody Breeze\n",
      "London and the Bees\n",
      "Spirit In The Dark Reign\n",
      "Rho Lambda Theta Delta\n",
      "List of people of Bollywood\n",
      "A View of the Holy Name\n",
      "Stereotypes of White South Africans\n",
      "I Got the Party\n",
      "Charlie & The Vaudevillains\n",
      "Emblems of Indian Languages\n",
      "Reactions to the Me 109?\n",
      "Your Sinclair official top 100 web sites in Japan Softball Club\n",
      "Portuguese Association for Objective Government\n"
     ]
    }
   ],
   "source": [
    "for i in range(100):\n",
    "    title = deletion_model.make_short_sentence(100)\n",
    "    if title is not None and offensive.tact(title):\n",
    "        print(title)"
   ]
  },
  {
   "cell_type": "code",
   "execution_count": null,
   "metadata": {
    "collapsed": true
   },
   "outputs": [],
   "source": []
  }
 ],
 "metadata": {
  "anaconda-cloud": {},
  "kernelspec": {
   "display_name": "Python [Root]",
   "language": "python",
   "name": "Python [Root]"
  },
  "language_info": {
   "codemirror_mode": {
    "name": "ipython",
    "version": 3
   },
   "file_extension": ".py",
   "mimetype": "text/x-python",
   "name": "python",
   "nbconvert_exporter": "python",
   "pygments_lexer": "ipython3",
   "version": "3.5.2"
  }
 },
 "nbformat": 4,
 "nbformat_minor": 0
}
